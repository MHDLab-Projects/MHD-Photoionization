{
 "cells": [
  {
   "cell_type": "code",
   "execution_count": null,
   "id": "5eef9743-6824-40e1-9a49-3c180d401890",
   "metadata": {},
   "outputs": [],
   "source": [
    "import numpy as np\n",
    "import matplotlib.pyplot as plt\n",
    "import os\n",
    "import importlib\n",
    "import xarray as xr\n",
    "import scipy.spatial as spatial"
   ]
  },
  {
   "cell_type": "code",
   "execution_count": null,
   "id": "692fdaa6-11bf-4b4d-9beb-bb1c06d06663",
   "metadata": {},
   "outputs": [],
   "source": [
    "import beam_utils\n",
    "importlib.reload(beam_utils)\n",
    "import tri_mesh\n",
    "importlib.reload(tri_mesh)"
   ]
  },
  {
   "cell_type": "markdown",
   "id": "ea3ef339-d107-4a0a-a00e-3637342eff9a",
   "metadata": {},
   "source": [
    "# Beam Integration using using xarray datasets\n",
    "\n",
    "This demonstrate beam integration using an xarray dataset for the beam data.\n"
   ]
  },
  {
   "cell_type": "markdown",
   "id": "c6e15c6a-7526-4746-8375-b02119517301",
   "metadata": {},
   "source": [
    "## Create Interpolating Function from  Simulation Data"
   ]
  },
  {
   "cell_type": "code",
   "execution_count": null,
   "id": "a42bc062-fdfc-45b8-9ae7-f8e73408edc2",
   "metadata": {},
   "outputs": [],
   "source": [
    "viz_path = r\"C:\\Users\\Huckaby\\Desktop\\MHD\\Simulations\\viz_example\" \n",
    "#print(os.listdir(viz_path))\n",
    "fname = \"frontCyl_plasma.vtk\"\n",
    "fname = \"frontCyl.vtk\"\n",
    "fname = os.path.join(viz_path, fname)\n",
    "f_axi = beam_utils.new_soln_interpolator(fname, do_plot=False)"
   ]
  },
  {
   "cell_type": "markdown",
   "id": "92accbcd-9aef-45ff-8aad-8135aaf559f6",
   "metadata": {},
   "source": [
    "## Construct Beam Dataset\n",
    "\n",
    "### Beam Mesh"
   ]
  },
  {
   "cell_type": "code",
   "execution_count": null,
   "id": "79e491cc-cb4c-4f5b-95de-e3d09b504f61",
   "metadata": {},
   "outputs": [],
   "source": [
    "x_exit = 207.910 * 1e-3\n",
    "x_min = 0.25\n",
    "x_center = x_min\n",
    "offset = np.array([-0.05,0.0,-0.1])\n",
    "\n",
    "pos_center = np.array([x_center,0,0])\n",
    "pos_source = pos_center + offset\n",
    "pos_target = pos_center - offset\n",
    "\n",
    "beam_axis = -offset\n",
    "jet_axis = (1,0,0)\n",
    "shat = beam_utils.coordinate_tensor(beam_axis, jet_axis)\n",
    "L_beam = beam_utils.mag(offset)*2.0\n",
    "\n",
    "x_beam = np.linspace(0,L_beam)\n",
    "d_beam = 1e-2\n",
    "# creates pos[:,:], mesh:pv.mesh, ds:xr.dataset, \n",
    "tri_out = tri_mesh.new_cylinder(x=x_beam,r=d_beam/2.0,n_theta=60)\n"
   ]
  },
  {
   "cell_type": "code",
   "execution_count": null,
   "id": "9080dc27-a7fd-4696-b9dc-8673e452999b",
   "metadata": {},
   "outputs": [],
   "source": [
    "fig, ax = plt.subplots(1,3,sharex=True,sharey=True)\n",
    "for a in ax:\n",
    "    a.set_aspect(1.0)\n",
    "circle = tri_mesh.new_disk(n_theta=50, angle=30.0, do_plot=False)\n",
    "v = circle[\"vertices\"]\n",
    "vor = spatial.Voronoi(v)\n",
    "hull = spatial.ConvexHull(v,qhull_options='QG-100')\n",
    "for i in [0,1]:\n",
    "    spatial.voronoi_plot_2d(vor, ax=ax[i], line_width=0.5, point_size=1.0, show_vertices=False, show_points=i)\n",
    "\n",
    "for visible_facet in hull.simplices[hull.good]:\n",
    "    ax[1].plot(hull.points[visible_facet, 0],\n",
    "            hull.points[visible_facet, 1],\n",
    "            color='violet',\n",
    "            lw=1)\n",
    "\n",
    "for i in [0,2]:\n",
    "    ax[i].triplot(v[:,0], v[:,1], circle[\"triangles\"], linewidth=0.5)\n",
    "fig.set_size_inches(10,10)"
   ]
  },
  {
   "cell_type": "markdown",
   "id": "290fea14-6e2e-4fdc-a869-bec8c5a40fbe",
   "metadata": {},
   "source": [
    "### **Figure** Mesh and Voronoi Cross-section\n",
    "\n",
    "Left - Voronoi and Mesh\n",
    "Center - Voronoi w/ Mesh vertices and Convex Hull (purple)\n",
    "Right - Mesh edges\n",
    "\n",
    "Since the beam is being integration along the vertices, there are two options to reconstruct the \n",
    "\n",
    "1. \"Trapazoidal Rule\"\n",
    "    I_face = \\sum_i A_i I_i\n",
    "    I_i = \\sum_k I_{j = vertex[i,k]}/n_vertex\n",
    "    i - triangles\n",
    "    j - verticies\n",
    "    v[k] - vertrex k of triangle i\n",
    "\n",
    "1a. Invert the summation\n",
    "    I_face = \\sum_j Ahat_j I_j\n",
    "    Ahat_j = \\sum_k \\sum_i (A_i/3) delta_{j,vertex[i,k]}\n",
    "      \n",
    "2. \"Voronoi Cell\"\n",
    "     I_face = \\sum_i Ahat_j I_j\n",
    "     Ahat_j <- area of the Voronio cell for the interior\n",
    "     for exterior cells, the area inside the boundary.\n",
    "\n",
    "1a is probably the best approach, since Ahat_j can be calcualted once a resused for all wavelengths   "
   ]
  },
  {
   "cell_type": "code",
   "execution_count": null,
   "id": "40582a82-9f99-43dd-88df-e2a433a67e19",
   "metadata": {},
   "outputs": [],
   "source": [
    "def transform_beam(ds, shat):\n",
    "    ds[\"pos_beam\"] = ds[\"pos\"]*1.0\n",
    "    ds[\"pos\"][:] = np.matmul(ds[\"pos_beam\"].to_numpy(),shat) + pos_source"
   ]
  },
  {
   "cell_type": "markdown",
   "id": "3cad7e27-8af1-43a9-b843-9aeebdcca4f4",
   "metadata": {},
   "source": [
    "### Create Dataset\n",
    "\n",
    "Add concentration and temperature to the dataset"
   ]
  },
  {
   "cell_type": "code",
   "execution_count": null,
   "id": "3642d290-b407-4430-9ca4-1025d5d4a156",
   "metadata": {},
   "outputs": [],
   "source": [
    "ds = tri_out[\"ds\"]\n",
    "transform_beam(ds, shat)"
   ]
  },
  {
   "cell_type": "code",
   "execution_count": null,
   "id": "554d9115-c5f3-4afd-b624-1f6a0e26a45b",
   "metadata": {},
   "outputs": [],
   "source": [
    "f_out = f_axi(ds[\"pos\"])\n",
    "ds[\"T\"] = (\"s\",\"ray\"), f_out[:,:,0].T\n",
    "ds[\"K\"] = (\"s\",\"ray\"), f_out[:,:,1].T"
   ]
  },
  {
   "cell_type": "code",
   "execution_count": null,
   "id": "c03a662b-7a6a-4ea3-82e0-d473ccd99382",
   "metadata": {},
   "outputs": [],
   "source": [
    "ds"
   ]
  },
  {
   "cell_type": "code",
   "execution_count": null,
   "id": "efa2df67-5c76-42f3-83b0-47a19952c2e1",
   "metadata": {},
   "outputs": [],
   "source": [
    "ds.coords[\"x\"] = (\"s\", \"ray\"), ds[\"pos\"].data[:,:,0]\n",
    "ds.coords[\"y\"] = (\"s\", \"ray\"), ds[\"pos\"].data[:,:,1]\n",
    "ds.coords[\"z\"] = (\"s\", \"ray\"), ds[\"pos\"].data[:,:,2]\n",
    "ds"
   ]
  },
  {
   "cell_type": "code",
   "execution_count": null,
   "id": "6a9c1ec0-aac0-4488-9031-38b1cdfa1d81",
   "metadata": {},
   "outputs": [],
   "source": [
    "fig, ax = plt.subplots()\n",
    "ax.set_aspect(1.0)\n",
    "ds[\"T\"].plot(x=\"x\",y=\"z\", ax=ax)"
   ]
  },
  {
   "cell_type": "code",
   "execution_count": null,
   "id": "5aa72c77-cc86-45d0-a1c7-22c849f2ad1f",
   "metadata": {},
   "outputs": [],
   "source": [
    "### **Figure** Temperature Contour On Beam"
   ]
  },
  {
   "cell_type": "markdown",
   "id": "3ae4c0b6-1b60-4aef-aadc-72a149a0d2b1",
   "metadata": {},
   "source": [
    "## Adaptive Refinement of Beam Mesh"
   ]
  },
  {
   "cell_type": "code",
   "execution_count": null,
   "id": "d97bdec1-ae73-4ffe-bdb9-1eba69152250",
   "metadata": {},
   "outputs": [],
   "source": [
    "ds_diff = ds.diff(\"s\")"
   ]
  },
  {
   "cell_type": "code",
   "execution_count": null,
   "id": "d3137e57-c18f-4516-9ab4-5593e1aa7e6e",
   "metadata": {},
   "outputs": [],
   "source": [
    "v_min = ds.min(dim=\"s\")\n",
    "v_max = ds.max(dim=\"s\")\n",
    "w_small = 1e-6\n",
    "wv_small = 1e-12\n",
    "weights = (v_max - v_min) + (v_max + v_min)*w_small + wv_small\n",
    "adapt_vars = \"T\",\"K\"\n",
    "rtol = 1e-2"
   ]
  },
  {
   "cell_type": "code",
   "execution_count": null,
   "id": "5096115a-0234-41d6-984e-f99263a3159a",
   "metadata": {},
   "outputs": [],
   "source": [
    "max_iter = 10\n",
    "ds_new = ds.copy()\n",
    "for i in range(max_iter):\n",
    "    ds_diff = ds.diff(\"s\")\n",
    "    mask = (ds_diff > rtol*weights).any(\"ray\")\n",
    "    i_new = np.concatenate([ np.where(mask[v].to_numpy())[0] for v in adapt_vars ])\n",
    "    i_new = np.unique(i_new)\n",
    "    \n",
    "    s_new = (ds.s[i_new] + ds.s[i_new+1])*0.5\n",
    "    #coords = ds.coords.copy()\n",
    "    coords = {\"s\": s_new}\n",
    "    #ds_new = ds.DataSet(coords)\n",
    "\n",
    "    break"
   ]
  },
  {
   "cell_type": "code",
   "execution_count": null,
   "id": "6e423a9d-1131-4014-86b9-0b857814d16b",
   "metadata": {},
   "outputs": [],
   "source": [
    "ds_new = beam_utils.adapt_beam(ds, f_axi)"
   ]
  },
  {
   "cell_type": "code",
   "execution_count": null,
   "id": "d6b981a7-46aa-4736-a185-f0e33cbcb0f5",
   "metadata": {},
   "outputs": [],
   "source": [
    "fig, ax = plt.subplots(1,2,sharex=True, sharey=True)\n",
    "out = ax[0].plot(ds[\"x\"].sel(ray=0),ds[\"T\"].sel(ray=0),'.-')\n",
    "ax[0].set_title(\"coarse N={}\".format(len(ds[\"x\"])))\n",
    "out = ax[1].plot(ds_new[\"x\"].sel(ray=0),ds_new[\"T\"].sel(ray=0),'.',alpha=0.05, label=0)\n",
    "out = ax[1].plot(ds_new[\"x\"].sel(ray=0),ds_new[\"T\"].sel(ray=5),'.',alpha=0.05, label=5)\n",
    "ax[1].legend(title=\"ray#\")\n",
    "ax[1].set_title(\"adapt N={}\".format(len(ds_new[\"x\"])))\n",
    "ax[1].set_xlabel(\"x [m]\")\n",
    "ax[0].set_xlabel(\"x [m]\")\n",
    "ax[0].set_ylabel(\"T [K]\")"
   ]
  },
  {
   "cell_type": "markdown",
   "id": "356306f4-e07a-4122-90ba-40b76c4eb134",
   "metadata": {},
   "source": [
    "### **Figure** Temperature Profile of the first ray in the beam\n",
    "\n",
    "x - is the coordinate parallel to jet axis"
   ]
  },
  {
   "cell_type": "code",
   "execution_count": null,
   "id": "97a31651-a844-4418-b373-3e5718e100f8",
   "metadata": {},
   "outputs": [],
   "source": [
    "fig, ax = plt.subplots(2,2,sharex=True,sharey=True)\n",
    "for a in ax.flat:\n",
    "    a.set_aspect(1.0)\n",
    "ds_new[\"T\"].plot(x=\"x\",y=\"z\",ax=ax[0,0])\n",
    "ds[\"T\"].plot(x=\"x\",y=\"z\",ax=ax[0,1])\n",
    "ds_new[\"K\"].plot(x=\"x\",y=\"z\",ax=ax[1,0])\n",
    "ds[\"K\"].plot(x=\"x\",y=\"z\",ax=ax[1,1])\n",
    "ax[0,0].set_title(\"adapt\")\n",
    "ax[0,1].set_title(\"fixed\")\n",
    "fig.tight_layout()"
   ]
  },
  {
   "cell_type": "markdown",
   "id": "b3e27379-8b8d-4abb-a015-21783879e1ea",
   "metadata": {},
   "source": [
    "### **Figure** Comparison on Bean Temperature and Potassium contours"
   ]
  },
  {
   "cell_type": "code",
   "execution_count": null,
   "id": "09a5b912-8e41-4700-8b8b-5a5f59401031",
   "metadata": {},
   "outputs": [],
   "source": []
  },
  {
   "cell_type": "markdown",
   "id": "ed3c117f-c6bb-457b-8610-2c8d2b91d85f",
   "metadata": {},
   "source": [
    "## Beam Integration\n",
    "\n",
    "### Experimental Source "
   ]
  },
  {
   "cell_type": "code",
   "execution_count": null,
   "id": "c6cf36d2-1444-4887-8cd1-42a3af274253",
   "metadata": {},
   "outputs": [],
   "source": [
    "data_path = r\"C:\\Users\\Huckaby\\Desktop\\MHD\\Simulations\\viz_example\"\n",
    "fname = \"ds_calib.cdf\"\n",
    "fname = os.path.join(data_path,fname)\n",
    "source = beam_utils.read_intensity_wavelength_function(fname, do_plot=False)\n",
    "u = source[\"diff\"].isel(time=0).drop(\"time\")\n",
    "for mp in u.mp.data:\n",
    "    v = u.sel(mp=mp)\n",
    "    plt.plot(v[\"wavelength\"], v, label=mp)\n",
    "plt.xlabel(\"wavelength [nm]\")\n",
    "plt.ylabel(\"intensity [W]\")\n",
    "plt.legend()"
   ]
  },
  {
   "cell_type": "markdown",
   "id": "2b53eac6-f5ae-4981-89c4-70a3352ce84d",
   "metadata": {},
   "source": [
    "### **Figure** - Source Intensity"
   ]
  },
  {
   "cell_type": "markdown",
   "id": "c4889023-f7b0-4cc3-acb0-304a8c1d1db7",
   "metadata": {},
   "source": [
    "### Arbitrary Gaussian Absoprtion Cross Section"
   ]
  },
  {
   "cell_type": "code",
   "execution_count": null,
   "id": "9eeae7c3-1d24-4898-b508-bbc65d16556f",
   "metadata": {},
   "outputs": [],
   "source": [
    "import ray_integration\n",
    "Q_absorption = ray_integration.GaussAbsorption(b=[-0.3,-0.3])"
   ]
  },
  {
   "cell_type": "code",
   "execution_count": null,
   "id": "5aef3ed2-eed7-442e-a8fa-40169fc77a0e",
   "metadata": {},
   "outputs": [],
   "source": [
    "Q_list = beam_utils.calc_absorption(source, ds_new, Q_absorption)"
   ]
  },
  {
   "cell_type": "code",
   "execution_count": null,
   "id": "33e66dbd-e2ee-45d8-8e12-0c192053ad1c",
   "metadata": {
    "scrolled": true
   },
   "outputs": [],
   "source": [
    "wave_nm = ds_new.wavelength\n",
    "fig, ax = plt.subplots(2,1,sharex=True)\n",
    "for T in [300,500,1500]:\n",
    "    Q = np.array([Q_absorption(T, w) for w in wave_nm.to_numpy()])    \n",
    "    ax[0].semilogy(wave_nm, Q)\n",
    "    ax[1].plot(wave_nm, Q, label=T)\n",
    "ax[1].set_xlabel(\"wavelength [nm]\")\n",
    "ax[0].set_ylabel(\"cross section [m^2]\")\n",
    "ax[1].set_ylabel(\"cross section [m^2]\")\n",
    "ax[1].legend(title=\"T\")            "
   ]
  },
  {
   "cell_type": "code",
   "execution_count": null,
   "id": "9170e97c-391f-4ffa-a195-a2d6941a7336",
   "metadata": {},
   "outputs": [],
   "source": [
    "ds_new[\"I_target\"].isel(mp=0,wavelength=200).plot()"
   ]
  },
  {
   "cell_type": "markdown",
   "id": "e4901bc8-c59c-4284-acf0-63703305f1f7",
   "metadata": {},
   "source": [
    "### **Figure** - Target Intensity for Each Ray"
   ]
  },
  {
   "cell_type": "code",
   "execution_count": null,
   "id": "d22b290d-a384-4486-b910-1f4450412ce7",
   "metadata": {},
   "outputs": [],
   "source": [
    "import matplotlib.tri as plt_tri\n",
    "def plot(ds):\n",
    "    f = ds[\"I_target\"].isel(wavelength=200, mp=0)\n",
    "    f_rel = (f - f.min())/(f.max() - f.min())\n",
    "    #print(z.max(), z.min())\n",
    "    cmap = plt.get_cmap(\"viridis\")\n",
    "    color=cmap(f_rel)\n",
    "    fig, ax = plt.subplots(1,2,sharex=True,sharey=True)\n",
    "    x, z, y = ds[\"x\"].isel(s=-1)**2, ds[\"z\"].isel(s=-1)**2 + ds[\"x\"].isel(s=-1), ds[\"y\"].isel(s=-1)\n",
    "    x1 = ( (x - x.min())**2 + (z - z.min())**2 )**0.5\n",
    "    ax[0].scatter(x1, y, c=color)\n",
    "    tri_out = plt_tri.Triangulation(x1, y)\n",
    "    out = ax[1].tricontourf(tri_out, f_rel)\n",
    "    cbar = plt.colorbar(out)\n",
    "    #cbar.title(\"I\")\n",
    "    ax[1].set_aspect(1.0)\n",
    "    ax[0].set_aspect(1.0)\n",
    "    fig.tight_layout()\n",
    "\n",
    "plot(ds_new)"
   ]
  },
  {
   "cell_type": "markdown",
   "id": "3ad020d1-b9e9-4f0a-8ee6-2bafe1bc2908",
   "metadata": {},
   "source": [
    "### **Figure** - Target Relative Intensity Contours"
   ]
  },
  {
   "cell_type": "code",
   "execution_count": null,
   "id": "0d4908ef-be9d-4ff4-b913-eac774688ae3",
   "metadata": {},
   "outputs": [],
   "source": [
    "ds_new"
   ]
  },
  {
   "cell_type": "code",
   "execution_count": null,
   "id": "5c0670a1-86b4-4657-bf53-fd5f7dbd3bd8",
   "metadata": {},
   "outputs": [],
   "source": []
  }
 ],
 "metadata": {
  "kernelspec": {
   "display_name": "Python 3 (ipykernel)",
   "language": "python",
   "name": "python3"
  },
  "language_info": {
   "codemirror_mode": {
    "name": "ipython",
    "version": 3
   },
   "file_extension": ".py",
   "mimetype": "text/x-python",
   "name": "python",
   "nbconvert_exporter": "python",
   "pygments_lexer": "ipython3",
   "version": "3.11.6"
  }
 },
 "nbformat": 4,
 "nbformat_minor": 5
}
