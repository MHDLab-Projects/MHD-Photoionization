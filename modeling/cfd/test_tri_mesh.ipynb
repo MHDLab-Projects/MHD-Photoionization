{
 "cells": [
  {
   "cell_type": "code",
   "execution_count": null,
   "id": "c60d6207-266c-4d36-9367-246b48168ead",
   "metadata": {},
   "outputs": [],
   "source": [
    "import importlib\n",
    "import matplotlib.pyplot as plt\n",
    "import tri_mesh"
   ]
  },
  {
   "cell_type": "markdown",
   "id": "675df052-932c-4261-bdfb-631cd443b388",
   "metadata": {},
   "source": [
    "## Test Tri Mesh\n",
    "\n",
    "General demonstration and testing of tri_mesh module"
   ]
  },
  {
   "cell_type": "code",
   "execution_count": null,
   "id": "3ba9c14b-557b-4456-9631-ab5f03968c15",
   "metadata": {},
   "outputs": [],
   "source": [
    "importlib.reload(tri_mesh)"
   ]
  },
  {
   "cell_type": "code",
   "execution_count": null,
   "id": "09836fbe-2978-4630-b9eb-2ea6242bc441",
   "metadata": {},
   "outputs": [],
   "source": [
    "disk = tri_mesh.new_disk()\n",
    "tri_mesh.tri_plot(disk)"
   ]
  },
  {
   "cell_type": "code",
   "execution_count": null,
   "id": "752cd0f0-ccea-4743-b8be-1f699ef92a5e",
   "metadata": {},
   "outputs": [],
   "source": [
    "p_disk = tri_mesh.new_poly_disk(n_sides=6, n_r=4)\n",
    "tri_mesh.tri_plot(p_disk)"
   ]
  },
  {
   "cell_type": "code",
   "execution_count": null,
   "id": "501d1eb3-0dd0-4f58-90ff-f2ef3a5d5ef7",
   "metadata": {},
   "outputs": [],
   "source": [
    "p1_disk = tri_mesh.new_poly_disk(n_sides=6, n_r=4, outer_points=\"none\")\n",
    "tri_mesh.tri_plot(p1_disk)"
   ]
  },
  {
   "cell_type": "code",
   "execution_count": null,
   "id": "76a103bb-09b9-4a55-aca9-7a7a3a74d4f3",
   "metadata": {},
   "outputs": [],
   "source": [
    "#plt.hist(p_disk[\"v_area\"])\n",
    "import numpy as np\n",
    "bins = np.linspace(0,0.1,20)\n",
    "fig, ax = plt.subplots(3,1,sharex=True)\n",
    "label = \"tri\",\"poly_double\",\"poly\"\n",
    "for i, tri in enumerate([disk,p_disk,p1_disk]):\n",
    "    ax[i].hist(tri[\"v_area\"],bins=bins, alpha=0.5, label=label[i])\n",
    "    ax[i].legend()"
   ]
  },
  {
   "cell_type": "code",
   "execution_count": null,
   "id": "a4998dcd-5fdb-40a4-b9f1-31fe86c4a12f",
   "metadata": {},
   "outputs": [],
   "source": [
    "x = np.array([0.0,1.0])\n",
    "cyl = tri_mesh.new_poly_cylinder(x=x,r=0.1,n_r=4,n_sides=6,outer_points=\"regular\")\n",
    "mesh = cyl[\"mesh\"]\n",
    "\n",
    "cyl1 = tri_mesh.new_poly_disk(n_r=2,n_sides=5,outer_points=\"regular\")"
   ]
  },
  {
   "cell_type": "code",
   "execution_count": null,
   "id": "3304e8c7-75b3-47ab-a036-3cab3185a3c4",
   "metadata": {},
   "outputs": [],
   "source": [
    "mesh.save(\"mesh.vtk\")"
   ]
  },
  {
   "cell_type": "code",
   "execution_count": null,
   "id": "92b6d177-6077-4486-abad-fb1b3b8c6dfe",
   "metadata": {},
   "outputs": [],
   "source": [
    "mesh.set_active_scalars(\"tri_area\") #,show_edges=True)\n",
    "mesh.plot(show_edges=True)"
   ]
  },
  {
   "cell_type": "code",
   "execution_count": null,
   "id": "2cc4d8f0-8ea4-49d2-912b-3b7f1423d204",
   "metadata": {},
   "outputs": [],
   "source": [
    "p1_disk = tri_mesh.new_poly_disk(n_r=4,outer_points=\"regular\")\n",
    "v = p1_disk['vertices'] \n",
    "tri = p1_disk['triangles']\n",
    "val = p1_disk['v_area']\n",
    "val = p1_disk['area']\n",
    "fig, ax = plt.subplots(1,2)\n",
    "ax[0].set_aspect(1.0)\n",
    "out = ax[0].tripcolor(v[:,0], v[:,1], tri, val)\n",
    "ax[1].set_aspect(1.0)\n",
    "val = p1_disk['v_area']\n",
    "out = ax[1].tricontourf(v[:,0], v[:,1], tri, val)"
   ]
  },
  {
   "cell_type": "code",
   "execution_count": null,
   "id": "bcd3537f-be78-4ffe-8646-e9984c2a74bf",
   "metadata": {},
   "outputs": [],
   "source": [
    "area = p1_disk[\"area\"]"
   ]
  },
  {
   "cell_type": "code",
   "execution_count": null,
   "id": "1a2c7071-8a41-409a-bc29-b9b411098b6b",
   "metadata": {},
   "outputs": [],
   "source": [
    "v[0]"
   ]
  },
  {
   "cell_type": "code",
   "execution_count": null,
   "id": "47de7de9-638b-494b-96d5-ace42efef668",
   "metadata": {},
   "outputs": [],
   "source": [
    "center_tris = np.where(np.any(tri==0, axis=1))\n",
    "center_tris"
   ]
  },
  {
   "cell_type": "code",
   "execution_count": null,
   "id": "6949c9c1-1f43-4678-b96f-db11ce356fb3",
   "metadata": {},
   "outputs": [],
   "source": [
    "tri[center_tris]"
   ]
  },
  {
   "cell_type": "code",
   "execution_count": null,
   "id": "45badf78-45d7-4c77-b716-7e4e467fe2da",
   "metadata": {},
   "outputs": [],
   "source": [
    "A = area[center_tris]\n",
    "print(A)"
   ]
  },
  {
   "cell_type": "code",
   "execution_count": null,
   "id": "d9cfd0eb-f811-48d5-863b-c68d53919778",
   "metadata": {},
   "outputs": [],
   "source": [
    "A.max()"
   ]
  },
  {
   "cell_type": "code",
   "execution_count": null,
   "id": "86f11f23-3717-4c18-950c-25968f14c938",
   "metadata": {},
   "outputs": [],
   "source": []
  }
 ],
 "metadata": {
  "kernelspec": {
   "display_name": "Python 3 (ipykernel)",
   "language": "python",
   "name": "python3"
  },
  "language_info": {
   "codemirror_mode": {
    "name": "ipython",
    "version": 3
   },
   "file_extension": ".py",
   "mimetype": "text/x-python",
   "name": "python",
   "nbconvert_exporter": "python",
   "pygments_lexer": "ipython3",
   "version": "3.11.6"
  }
 },
 "nbformat": 4,
 "nbformat_minor": 5
}
