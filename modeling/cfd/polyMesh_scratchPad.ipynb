{
 "cells": [
  {
   "cell_type": "markdown",
   "id": "6697d1cd-f8e5-497a-8877-dec409fa4d16",
   "metadata": {},
   "source": [
    "## Polygon meshing Workbook\n",
    "\n",
    "After testing and devolpment code is moved to modules"
   ]
  },
  {
   "cell_type": "code",
   "execution_count": null,
   "id": "82a63c30-d956-4fec-88f9-736787b67d2c",
   "metadata": {},
   "outputs": [],
   "source": [
    "import numpy as np\n",
    "import scipy.spatial as spatial\n",
    "import matplotlib.pyplot as plt\n",
    "import triangle"
   ]
  },
  {
   "cell_type": "code",
   "execution_count": null,
   "id": "1ac09bfc-7002-4910-9261-7ef845b561e7",
   "metadata": {},
   "outputs": [],
   "source": [
    "n_r = 2\n",
    "n_sides = 8\n",
    "n_dim = 2\n",
    "pos = np.zeros((1,n_dim))\n",
    "pos_list = [pos]\n",
    "for i_r in range(1,n_r+1):\n",
    "    n_theta = n_sides*i_r\n",
    "    r = float(i_r)/n_r\n",
    "    #if i_r == n_r:\n",
    "    #    n_theta = 2*n_sides*(i_r-1)\n",
    "    #    theta = np.linspace(0,1,n_theta,endpoint=False)*np.pi*2.0\n",
    "    #    #theta += (theta[1]-theta[0])*0.5\n",
    "    #else:\n",
    "    n_theta = n_sides*i_r\n",
    "    theta = np.linspace(0,1,n_theta,endpoint=False)*np.pi*2.0\n",
    "    pos = np.zeros((n_theta,n_dim))\n",
    "    pos[:,0] = r*np.cos(theta)\n",
    "    pos[:,1] = r*np.sin(theta)\n",
    "    pos_list.append(pos)\n",
    "\n"
   ]
  },
  {
   "cell_type": "code",
   "execution_count": null,
   "id": "35abdd61-0a54-4473-ac74-dd13c647d988",
   "metadata": {},
   "outputs": [],
   "source": [
    "fig, ax = plt.subplots()\n",
    "ax.set_aspect(1.0)\n",
    "for pos in pos_list:\n",
    "    ax.plot(pos[:,0],pos[:,1],'o')    "
   ]
  },
  {
   "cell_type": "code",
   "execution_count": null,
   "id": "c3fc5e92-3907-4aba-8e7c-7fd336f49d05",
   "metadata": {},
   "outputs": [],
   "source": [
    "pos_all = np.concatenate(pos_list)\n",
    "print(pos_all.shape)\n",
    "#plt.plot(pos_all[:,0],pos_all[:,1],'o')\n",
    "tri_in = {\"vertices\": pos_all}    \n",
    "#tri_opts = \"a{:f}q{:f}iv\".format(area, angle)\n",
    "#tri = triangle.triangulate(tri_in, opts=tri_opts)\n",
    "tri = triangle.triangulate(tri_in)\n",
    "v = tri[\"vertices\"]\n",
    "fig, ax = plt.subplots()\n",
    "ax.triplot(v[:,0], v[:,1], tri[\"triangles\"])\n",
    "ax.set_aspect(1.0)"
   ]
  },
  {
   "cell_type": "code",
   "execution_count": null,
   "id": "b7e2c11a-bf0d-45cf-a607-6beda5652eff",
   "metadata": {},
   "outputs": [],
   "source": [
    "import tri_mesh\n",
    "import importlib\n",
    "importlib.reload(tri_mesh)"
   ]
  },
  {
   "cell_type": "code",
   "execution_count": null,
   "id": "ea65b520-0899-45c3-b214-d5f24cdba020",
   "metadata": {},
   "outputs": [],
   "source": [
    "tri_mesh.tri_calc_weights(tri)"
   ]
  },
  {
   "cell_type": "code",
   "execution_count": null,
   "id": "beb6c799-bd0b-4de8-b709-7c44274ea598",
   "metadata": {},
   "outputs": [],
   "source": [
    "np.sum(tri[\"v_area\"])"
   ]
  },
  {
   "cell_type": "code",
   "execution_count": null,
   "id": "f1429b08-d1bd-4479-84bb-4173294acbfc",
   "metadata": {},
   "outputs": [],
   "source": [
    "pos = tri[\"vertices\"]\n",
    "tri_verts = tri[\"triangles\"]\n",
    "    \n",
    "p1 = pos[tri_verts[:,0]]\n",
    "p2 = pos[tri_verts[:,1]]\n",
    "p3 = pos[tri_verts[:,2]]\n"
   ]
  },
  {
   "cell_type": "code",
   "execution_count": null,
   "id": "1d73dc63-50e5-4d39-96d5-f19ffa83de1d",
   "metadata": {},
   "outputs": [],
   "source": [
    "radius = np.sum(pos**2,axis=1)\n",
    "radius.shape"
   ]
  },
  {
   "cell_type": "code",
   "execution_count": null,
   "id": "423896ab-8bb2-493c-9916-5b626afc2978",
   "metadata": {},
   "outputs": [],
   "source": [
    "outer = abs(radius  - 1) < 1e-3\n",
    "print(outer.shape, outer[tri_verts].shape)"
   ]
  },
  {
   "cell_type": "code",
   "execution_count": null,
   "id": "2972ff57-393a-4999-a5bc-bb7ec0835c20",
   "metadata": {},
   "outputs": [],
   "source": [
    "\n",
    "outer_tris = np.where(np.sum(outer[tri_verts],axis=1) == 2)[0]\n",
    "outer_tris\n",
    "\n",
    "v_i = tri_verts[outer_tris]\n",
    "v = pos[tri_verts[outer_tris].T]\n",
    "sA = v[1] - v[0] \n",
    "sB = v[2] - v[1]\n",
    "sC = v[0] - v[2]\n"
   ]
  },
  {
   "cell_type": "markdown",
   "id": "6d91964c-df4c-4194-a8e2-4f103dac3220",
   "metadata": {},
   "source": [
    "## Correct Area\n",
    "\n",
    "Correct areas by adding the space between the triangle edge and the edge of the circle."
   ]
  },
  {
   "cell_type": "code",
   "execution_count": null,
   "id": "c2835ad0-5b2a-4353-b7ef-a585aa932424",
   "metadata": {},
   "outputs": [],
   "source": [
    "n_outer_tris = outer_tris.shape[0]\n",
    "def mag(x):\n",
    "    return np.sum(x**2, axis=-1)**0.5\n",
    "tri[\"area_corr\"] = tri[\"area\"]*1.0\n",
    "for i in range(n_outer_tris):\n",
    "    v_side = v_i[i][ np.where(outer[v_i[i]]) ]\n",
    "    v_in = v_i[i][ np.where(outer[v_i[i]]== False) ]\n",
    "    p_side = pos[v_side]\n",
    "    r = mag(p_side)\n",
    "    #print(r)\n",
    "    val = np.dot(p_side[0],p_side[1])/(r[0]*r[1])\n",
    "    alpha = np.arccos(val)    \n",
    "    A_corr = 0.5*(alpha - np.sin(alpha))*r[0]**2\n",
    "    #print(i, alpha, val, A_corr, r)\n",
    "\n",
    "    tri[\"area_corr\"][i] += A_corr"
   ]
  },
  {
   "cell_type": "markdown",
   "id": "8abf1063-2cc1-4f62-85e9-5513a3e05852",
   "metadata": {},
   "source": [
    "after correction the total read equals what is expected"
   ]
  },
  {
   "cell_type": "code",
   "execution_count": null,
   "id": "71c09fee-15bc-407a-bb37-940978fafb57",
   "metadata": {},
   "outputs": [],
   "source": [
    "A = float(r.max()**2*np.pi)\n",
    "print(type(A))\n",
    "print(\"analytical corrected uncorrected\")\n",
    "A_corr = np.sum(tri[\"area_corr\"])\n",
    "A_tri = np.sum(tri[\"area\"])\n",
    "fmt = 3*\" {:18.11e} \"\n",
    "print(fmt.format(A, A_corr, A_tri))\n",
    "print(fmt.format(0, A_corr/A-1.0, A_tri/A-1.0 ))"
   ]
  },
  {
   "cell_type": "code",
   "execution_count": null,
   "id": "760a852d-886c-40ac-8f0c-5fc8c8f3d8f0",
   "metadata": {},
   "outputs": [],
   "source": [
    "fig, ax = plt.subplots(2,1,sharex=True)\n",
    "out = ax[0].hist(tri[\"area_corr\"])\n",
    "ax[1].hist(tri[\"area\"], bins=out[1])"
   ]
  },
  {
   "cell_type": "code",
   "execution_count": null,
   "id": "5b84131a-a537-466c-8870-35e4f9f537d0",
   "metadata": {},
   "outputs": [],
   "source": []
  }
 ],
 "metadata": {
  "kernelspec": {
   "display_name": "Python 3 (ipykernel)",
   "language": "python",
   "name": "python3"
  },
  "language_info": {
   "codemirror_mode": {
    "name": "ipython",
    "version": 3
   },
   "file_extension": ".py",
   "mimetype": "text/x-python",
   "name": "python",
   "nbconvert_exporter": "python",
   "pygments_lexer": "ipython3",
   "version": "3.11.6"
  }
 },
 "nbformat": 4,
 "nbformat_minor": 5
}
