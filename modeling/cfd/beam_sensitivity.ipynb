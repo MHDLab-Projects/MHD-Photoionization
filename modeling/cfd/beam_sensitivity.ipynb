{
 "cells": [
  {
   "cell_type": "markdown",
   "id": "b1f38ee6-c1b1-4097-8b62-c3377f5a137a",
   "metadata": {},
   "source": [
    "## Beam Sensitivity\n",
    "\n",
    "Perform sensitivity analysis on beams\n",
    "\n",
    "In progress - working on absorption function and comparing two methods for calculation."
   ]
  },
  {
   "cell_type": "code",
   "execution_count": null,
   "id": "542cf876-d096-4c7b-b388-7d7bd7fda71b",
   "metadata": {},
   "outputs": [],
   "source": [
    "import os\n",
    "import numpy as np\n",
    "import matplotlib.pyplot as plt\n",
    "import xarray as xr\n",
    "import importlib\n",
    "import tri_mesh\n",
    "import beam\n",
    "import beam_utils\n",
    "from scipy import interpolate\n",
    "\n",
    "from lmfit.lineshapes import gaussian, voigt\n",
    "import cross_section"
   ]
  },
  {
   "cell_type": "markdown",
   "id": "9fcf4974-347d-4ac3-83a5-6686971878f6",
   "metadata": {},
   "source": [
    "## Read Jet Data"
   ]
  },
  {
   "cell_type": "code",
   "execution_count": null,
   "id": "c0792f21-9638-4784-b401-4c72b47fb1d1",
   "metadata": {},
   "outputs": [],
   "source": [
    "viz_path = r\"C:\\Users\\Huckaby\\Desktop\\MHD\\Simulations\\viz_example\" \n",
    "print(os.listdir(viz_path))\n",
    "fname = \"frontCyl_plasma.vtk\"\n",
    "fname = \"frontCyl.vtk\"\n",
    "fname = os.path.join(viz_path, fname)\n",
    "f_flow = beam_utils.new_soln_interpolator(fname, do_plot=False)"
   ]
  },
  {
   "cell_type": "code",
   "execution_count": null,
   "id": "4b1a3064-34f1-45d2-84c3-eb3284e840aa",
   "metadata": {},
   "outputs": [],
   "source": [
    "#source"
   ]
  },
  {
   "cell_type": "markdown",
   "id": "1cf2973c-ea52-43dd-9162-e8287d3f92cd",
   "metadata": {},
   "source": [
    "## Source Wavelength Profile"
   ]
  },
  {
   "cell_type": "code",
   "execution_count": null,
   "id": "061ffc35-0ad4-4a0c-bb82-6384a4a36e98",
   "metadata": {},
   "outputs": [],
   "source": [
    "importlib.reload(beam_utils)\n",
    "importlib.reload(cross_section)\n",
    "#dir(beam_uilts)"
   ]
  },
  {
   "cell_type": "code",
   "execution_count": null,
   "id": "3da9e19d-041b-4eaf-90ed-f443e5bd48b3",
   "metadata": {},
   "outputs": [],
   "source": [
    "data_path = r\"C:\\Users\\Huckaby\\Desktop\\MHD\\Simulations\\viz_example\"\n",
    "fname = \"ds_calib.cdf\"\n",
    "fname = os.path.join(data_path,fname)\n",
    "source_wavelength = beam_utils.read_intensity_wavelength_function(fname, do_plot=False)\n",
    "source_wavelength"
   ]
  },
  {
   "cell_type": "code",
   "execution_count": null,
   "id": "a223b972-69fa-441b-924f-ce770f551256",
   "metadata": {},
   "outputs": [],
   "source": [
    "source_filt = beam_utils.filter_wave_profile(source_wavelength)\n",
    "mp = \"mw_horn\"\n",
    "fig, ax = plt.subplots(2,1,sharex=True)\n",
    "for i in range(2):\n",
    "    source_wavelength[\"diff\"].isel(time=0,mp=i).plot(ax=ax[i])\n",
    "    source_filt[\"diff\"].isel(time=0,mp=i).plot(ax=ax[i])\n",
    "fig.tight_layout()"
   ]
  },
  {
   "cell_type": "markdown",
   "id": "6e3b5602-3225-489d-bfe3-e3c15a06e491",
   "metadata": {},
   "source": [
    "## Beam"
   ]
  },
  {
   "cell_type": "code",
   "execution_count": null,
   "id": "4b683c05-a076-4dcc-a729-560779641245",
   "metadata": {},
   "outputs": [],
   "source": [
    "importlib.reload(tri_mesh)\n",
    "importlib.reload(beam)"
   ]
  },
  {
   "cell_type": "code",
   "execution_count": null,
   "id": "5dcd503a-317c-4865-b6e6-4076e89eb567",
   "metadata": {},
   "outputs": [],
   "source": [
    "def mag(x):\n",
    "    return np.sum(x**2, axis=-1)**0.5"
   ]
  },
  {
   "cell_type": "code",
   "execution_count": null,
   "id": "b324d50d-f5a7-46fd-8028-ceaf10b062fb",
   "metadata": {},
   "outputs": [],
   "source": [
    "x_exit = 207.910 * 1e-3\n",
    "\n",
    "# location of source relative to focus point\n",
    "source_offset = np.array([-0.05,0.0,-0.1])\n",
    "source_distance = mag(source_offset)\n",
    "beam_dir = -source_offset/source_distance\n",
    "\n",
    "target_distance = source_distance\n",
    "target_offset = target_distance*beam_dir\n",
    "print(\"target distance = {:8.2f} [cm]\".format(target_distance*1e2))\n",
    "print(\"source distance = {:8.2f} [cm]\".format(source_distance*1e2))\n",
    "# minumum\n",
    "x_min = x_exit - source_offset[0]\n",
    "x_focus = x_min\n",
    "pos_focus = np.array([x_focus,0,0])\n",
    "\n",
    "b = beam.Beam(source=pos_focus+source_offset,target=pos_focus+target_offset,diam=1e-2)"
   ]
  },
  {
   "cell_type": "code",
   "execution_count": null,
   "id": "1eb07fda-cacd-4f7f-8388-329a187d0af5",
   "metadata": {},
   "outputs": [],
   "source": [
    "b.mesh(n_s=10,n_r=4,n_sides=6)\n",
    "\n"
   ]
  },
  {
   "cell_type": "markdown",
   "id": "a3b8f9bc-02a9-414e-ba2a-ac2d701ba20a",
   "metadata": {},
   "source": [
    "### Interpolate Field Data to Beam"
   ]
  },
  {
   "cell_type": "code",
   "execution_count": null,
   "id": "57106fcf-1c30-4075-9ae9-9ef04b98badc",
   "metadata": {},
   "outputs": [],
   "source": [
    "f_out = f_flow(b.ds[\"pos\"])\n",
    "b.ds[\"T\"] = (\"s\",\"ray\"), f_out[:,:,0].T\n",
    "b.ds[\"K\"] = (\"s\",\"ray\"), f_out[:,:,1].T\n",
    "fig, ax = plt.subplots(2,1)\n",
    "ax[0].set_aspect(1.0)\n",
    "#ax[1].set_aspect(1.0)\n",
    "b.ds[\"T\"].plot(x=\"z\",y=\"x\", ax=ax[0])\n",
    "b.ds[\"T\"].plot(x=\"x_beam\",y=\"z_beam\", ax=ax[1])\n",
    "fig.tight_layout()"
   ]
  },
  {
   "cell_type": "markdown",
   "id": "8a8f50e8-5ff0-42ff-adde-b79b181754ef",
   "metadata": {},
   "source": [
    "### Refine Mesh"
   ]
  },
  {
   "cell_type": "code",
   "execution_count": null,
   "id": "2ea47a95-1e0f-41c7-9759-72187c060e65",
   "metadata": {},
   "outputs": [],
   "source": [
    "import beam\n",
    "importlib.reload(beam)\n",
    "beam_adapt = beam.adapt_beam_dataset(b.ds, adapt_vars=[\"T\",\"K\"], field_func=f_flow, rtol=0.1, max_iter=20)\n",
    "b.add_cart_coords(beam_adapt, \"pos_beam\", \"{}_beam\")"
   ]
  },
  {
   "cell_type": "code",
   "execution_count": null,
   "id": "f21f6724-dee6-459a-8f17-35140c9cac07",
   "metadata": {},
   "outputs": [],
   "source": [
    "fig, ax = plt.subplots(2,1)\n",
    "ax[0].set_aspect(1.0)\n",
    "#ax[1].set_aspect(1.0)\n",
    "beam_adapt[\"T\"].plot(x=\"z\",y=\"x\", ax=ax[0])\n",
    "beam_adapt[\"T\"].plot(x=\"x_beam\",y=\"z_beam\", ax=ax[1])\n",
    "fig.tight_layout()"
   ]
  },
  {
   "cell_type": "code",
   "execution_count": null,
   "id": "1e0dc61d-1b5a-4b91-be10-582d932f00d9",
   "metadata": {},
   "outputs": [],
   "source": [
    "rays = [0,20]\n",
    "n_rays = len(rays)\n",
    "fig, ax = plt.subplots(1,n_rays,sharey=True)\n",
    "for i, ray in enumerate(rays):\n",
    "    beam_adapt[\"T\"].sel(ray=ray).plot(label=\"adapt\", ax=ax[i])\n",
    "    b.ds[\"T\"].sel(ray=ray).plot(label=\"coarse\", ax=ax[i])\n",
    "    pos = beam_adapt[\"pos\"].sel(ray=ray)\n",
    "    f = f_flow(pos)\n",
    "    ax[i].plot(beam_adapt[\"s\"], f[:,0], 'o', alpha=0.5, label=\"interp\")\n",
    "    ax[i].legend()\n",
    "fig.set_size_inches(11,4)\n",
    "ax[0].set_ylabel(\"T[K]\")"
   ]
  },
  {
   "cell_type": "markdown",
   "id": "12f7bb3b-dca5-4ba0-8d23-7211ae016f7f",
   "metadata": {},
   "source": [
    "## Calculate Intensity"
   ]
  },
  {
   "cell_type": "code",
   "execution_count": null,
   "id": "4b60ead3-ffbd-44c4-a393-b4652f938296",
   "metadata": {},
   "outputs": [],
   "source": [
    "#constants.Boltzmann, constants.R/constants.Avogadro"
   ]
  },
  {
   "cell_type": "code",
   "execution_count": null,
   "id": "13ae4518-1a95-4f64-a206-593d099c9368",
   "metadata": {},
   "outputs": [],
   "source": [
    "#Q_absorption.T0"
   ]
  },
  {
   "cell_type": "markdown",
   "id": "07a67411-0ad1-472a-9861-bde3403fbe45",
   "metadata": {},
   "source": [
    "### Potassium Cross Section"
   ]
  },
  {
   "cell_type": "code",
   "execution_count": null,
   "id": "88e99b80-0669-4e5d-a6f3-c350215ea0ee",
   "metadata": {},
   "outputs": [],
   "source": [
    "import ray_integration\n",
    "import scipy.constants as constants\n",
    "importlib.reload(cross_section)\n",
    "A0 = constants.e/(4.0*constants.epsilon_0*constants.m_e*constants.c**2)\n",
    "lam_nm = np.array([766.504333,769.913219])\n",
    "unit_nm = 1e-9\n",
    "lam = lam_nm * unit_nm\n",
    "\n",
    "f = np.array([ 0.7, 0.35 ])\n",
    "A = A0*np.array([ 4.0/6.0*f[0]*lam[0]**2, f[1]*lam[1]**2 ])\n",
    "\n",
    "MW_K = 39.1\n",
    "mass_K = MW_K*constants.m_p\n",
    "T_ref = 1000.0\n",
    "k_B = constants.Boltzmann\n",
    "f_delta_C = [3.19e9, 3.04e9]\n",
    "delta_D = 2.0*np.sqrt(2.0*np.log(2.0)*k_B*T_ref/mass_K)*(lam/constants.c)\n",
    "delta_C = (lam**2/constants.c)*f_delta_C\n",
    "\n",
    "print(\"Broadening\")\n",
    "print(\"Doppler [nm]\",delta_D/unit_nm)\n",
    "print(\"Collisional [nm]\", delta_C/unit_nm)\n",
    "print(\"lam/c\", lam/constants.c)\n",
    "print()\n",
    "\n",
    "Q_absorption = cross_section.GaussAbsorption(A=A,b=[-0.5,-0.5], lam=lam_nm, w=[5,5])\n",
    "Q_absorption.Q0 = 1.0"
   ]
  },
  {
   "cell_type": "code",
   "execution_count": null,
   "id": "74cbcf9a-2f47-4c2c-962d-b9b45bb0fc0c",
   "metadata": {},
   "outputs": [],
   "source": [
    "unit_cm = 1e-2\n",
    "E = 13042/unit_cm\n",
    "E*constants.c"
   ]
  },
  {
   "cell_type": "code",
   "execution_count": null,
   "id": "881c54cd-ff9b-466c-82f7-1c54674b20e7",
   "metadata": {},
   "outputs": [],
   "source": [
    "T = 1000.0\n",
    "nu = np.sqrt(8.0*(constants.Boltzmann*T*np.log(2.0)/(constants.m_e*constants.c**2)))\n",
    "lam = 770.0*unit_nm\n",
    "nu_0 = 1.0/lam\n",
    "nu_0/1e-2"
   ]
  },
  {
   "cell_type": "markdown",
   "id": "c4cb7403-0a72-4dec-b850-995ff978107a",
   "metadata": {},
   "source": [
    "8"
   ]
  },
  {
   "cell_type": "code",
   "execution_count": null,
   "id": "51c7bcb8-f4e2-44d7-8ef5-07258caf500f",
   "metadata": {},
   "outputs": [],
   "source": [
    "Q_abs = cross_section.VoigtAbsorption()\n",
    "lam = np.linspace(761, 780, 100)\n",
    "T = np.arange(500,3001,500)\n",
    "#T = np.array([999,1001])\n",
    "sigma = 3e-3*(T/1000.0)**0.5\n",
    "gamma = 6e-3*5e2\n",
    "center = 766.504333\n",
    "#\n",
    "# compare new function with older\n",
    "# broken need to fix\n",
    "#val = np.array([Q_abs.calc(lam, 1.0, center, sigma_i, gamma)/voigt(center, 1.0, center, sigma_i, gamma) for sigma_i in sigma])\n",
    "#for i, t  in enumerate(T):\n",
    "#    plt.plot(lam, val[i], label=t)\n",
    "#plt.legend()\n",
    "\n",
    "Q_abs.calc(T=1000.0, do_plot=True)"
   ]
  },
  {
   "cell_type": "code",
   "execution_count": null,
   "id": "f4d25cd1-1194-4553-bb31-933c56488390",
   "metadata": {},
   "outputs": [],
   "source": [
    "cross_section.blurred_alpha(1.0)"
   ]
  },
  {
   "cell_type": "code",
   "execution_count": null,
   "id": "b2e9d7f8-d358-4e90-8f9d-c53447976869",
   "metadata": {},
   "outputs": [],
   "source": [
    "for T in [1000,1500,2000]:\n",
    "    wave_nm = source_wavelength.wavelength.data\n",
    "    Q = Q_absorption(T, wave_nm)\n",
    "    plt.plot(wave_nm, Q, label=T)\n",
    "plt.legend()"
   ]
  },
  {
   "cell_type": "code",
   "execution_count": null,
   "id": "1d19bbc5-eaec-43df-a36e-560d83f7f934",
   "metadata": {},
   "outputs": [],
   "source": [
    "#from lmfit.lineshapes import gaussian, voigt"
   ]
  },
  {
   "cell_type": "code",
   "execution_count": null,
   "id": "2a946d68-00c3-4743-8cb8-f3e3a4f07c72",
   "metadata": {},
   "outputs": [],
   "source": [
    "# voigt(x, amplitude=1.0, center=0.0, sigma=1.0, gamma=None)\n",
    "# kappa = p1_prefactor*voigt(x, 1, p1_center, p1_delta_wl_D, p1_delta_wl_C) + p2_prefactor*voigt(x, 1, p2_center, p2_delta_wl_D, p2_delta_wl_C)"
   ]
  },
  {
   "cell_type": "code",
   "execution_count": null,
   "id": "f8604375-070b-4ce8-9d5a-10fedf42c3d3",
   "metadata": {},
   "outputs": [],
   "source": []
  }
 ],
 "metadata": {
  "kernelspec": {
   "display_name": "Python 3 (ipykernel)",
   "language": "python",
   "name": "python3"
  },
  "language_info": {
   "codemirror_mode": {
    "name": "ipython",
    "version": 3
   },
   "file_extension": ".py",
   "mimetype": "text/x-python",
   "name": "python",
   "nbconvert_exporter": "python",
   "pygments_lexer": "ipython3"
  }
 },
 "nbformat": 4,
 "nbformat_minor": 5
}
